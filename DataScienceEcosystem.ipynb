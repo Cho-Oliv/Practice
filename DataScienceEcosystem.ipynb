{
 "cells": [
  {
   "cell_type": "markdown",
   "id": "65af80c8-8f1c-4497-baf6-8f05711a6f22",
   "metadata": {},
   "source": [
    "# Data Science Tools and Ecosystem"
   ]
  },
  {
   "cell_type": "markdown",
   "id": "91edc2b2-500d-4a40-a182-84f8474c940a",
   "metadata": {},
   "source": [
    "In this note book, Data Science Tools and Ecosystem are summarized."
   ]
  },
  {
   "cell_type": "markdown",
   "id": "b29ea17b-91ab-4ee6-9165-e79e99ef5eef",
   "metadata": {},
   "source": [
    "Some of the popular languages that Data Scientist use are:\n",
    "1. Python\n",
    "2. R\n",
    "3. SQL"
   ]
  },
  {
   "cell_type": "markdown",
   "id": "cd5a46a3-cf11-4c29-ba37-3c7209938ed4",
   "metadata": {},
   "source": [
    "Some of the commonly used libraries used by data scientists include:\n",
    "1. Numpy\n",
    "2. Pandas\n",
    "3. Matplotlib"
   ]
  },
  {
   "cell_type": "markdown",
   "id": "c4984178-4ac6-47f4-9701-e14c8d74280a",
   "metadata": {},
   "source": [
    "|Data Science tools|\n",
    "|---------|\n",
    "|ApacheSpark|\n",
    "|TensorFlow|\n",
    "|Scikitlearn|"
   ]
  },
  {
   "cell_type": "markdown",
   "id": "d5d3508a-0805-49a0-a487-f5958452e0bc",
   "metadata": {},
   "source": [
    "### Below are a few examples of Evaluating Arithmetic expresion in Python\n"
   ]
  },
  {
   "cell_type": "code",
   "execution_count": 1,
   "id": "37e7bbb0-373e-4c7c-8fe8-ba5439258772",
   "metadata": {},
   "outputs": [
    {
     "data": {
      "text/plain": [
       "17"
      ]
     },
     "execution_count": 1,
     "metadata": {},
     "output_type": "execute_result"
    }
   ],
   "source": [
    "#This is a simple arithmetic expression to multiply and add then add Integers\n",
    "(3*4)+5\n"
   ]
  },
  {
   "cell_type": "code",
   "execution_count": 2,
   "id": "455834f3-c6ca-4dfb-86ba-0ad737bc88c9",
   "metadata": {},
   "outputs": [
    {
     "data": {
      "text/plain": [
       "3.3333333333333335"
      ]
     },
     "execution_count": 2,
     "metadata": {},
     "output_type": "execute_result"
    }
   ],
   "source": [
    "#this will convert 200 minutes to hours by dividing it by 60\n",
    "200/60"
   ]
  },
  {
   "cell_type": "markdown",
   "id": "4f9bd761-824a-4421-8f47-cf8fd1bfd87f",
   "metadata": {},
   "source": [
    "### Objectives:\n",
    "+ popular languagues used in data scienc\n",
    "+ popular libraries used in data science\n",
    "+ convering minutes to hours"
   ]
  },
  {
   "cell_type": "markdown",
   "id": "264e0bf1-927f-4b83-be6a-f6891afd18e0",
   "metadata": {},
   "source": [
    "## Author\n",
    "Chioma Asielue"
   ]
  },
  {
   "cell_type": "code",
   "execution_count": null,
   "id": "23f61fa3-364b-428d-b475-fd0ffbc2ea31",
   "metadata": {},
   "outputs": [],
   "source": []
  }
 ],
 "metadata": {
  "kernelspec": {
   "display_name": "Python 3 (ipykernel)",
   "language": "python",
   "name": "python3"
  },
  "language_info": {
   "codemirror_mode": {
    "name": "ipython",
    "version": 3
   },
   "file_extension": ".py",
   "mimetype": "text/x-python",
   "name": "python",
   "nbconvert_exporter": "python",
   "pygments_lexer": "ipython3",
   "version": "3.12.8"
  }
 },
 "nbformat": 4,
 "nbformat_minor": 5
}
